{
 "cells": [
  {
   "cell_type": "markdown",
   "metadata": {},
   "source": [
    "<img style=\"float: left; margin: 30px 15px 15px 15px;\" src=\"https://pngimage.net/wp-content/uploads/2018/06/logo-iteso-png-5.png\" width=\"300\" height=\"500\" /> \n",
    "    \n",
    "    \n",
    "### <font color='navy'> Simulación de procesos financieros. \n",
    "\n",
    "**Nombres:** Daphne Hernández Sandoval, Oscar Alfonso Flores Orozco.\n",
    "\n",
    "**Fecha:** 04 de febrero del 2020.\n",
    "\n",
    "**Expediente** : 709261.\n",
    "**Profesor:** Oscar David Jaramillo Zuluaga.\n",
    "\n",
    "# Tarea 1: Clase 2"
   ]
  },
  {
   "cell_type": "markdown",
   "metadata": {},
   "source": [
    "### Las expectativas de curso de Oscar:"
   ]
  },
  {
   "cell_type": "markdown",
   "metadata": {},
   "source": [
    "<img src=\"https://cdn0.iconfinder.com/data/icons/octicons/1024/markdown-512.png\" width=\"100\">"
   ]
  },
  {
   "cell_type": "markdown",
   "metadata": {},
   "source": [
    "\n",
    "    \n",
    "|   | Expectativas: |   |\n",
    "| :-: | :-: | :-: |\n",
    "| <span style=\"color:blue\"> poder agilizar la manera en la que programo, ya que a veces presiento que se llegar a los resultados pero existen maneras más sencillas. <span>  |   <span style=\"color:red\"> A lo largo de este curso espero poder *reforzar* los conocimientos que se han adquirido en clases como Algoritmos y Programación, Portafolios de Inversión, Análisis de Riesgo... que han sido materias que se ha utlizado la programación como medio de aprendizaje. <span>      | <span style=\"color:green\"> `Espero` , que en conjunto con mis otras materias y mis prácticas profesionales, sepa utlizar de manera **eficaz** mis conocimientos para que no sea un semestre pesado por la carga de materias que voy a cursar. <span>|\n"
   ]
  },
  {
   "cell_type": "markdown",
   "metadata": {},
   "source": [
    "***"
   ]
  },
  {
   "cell_type": "markdown",
   "metadata": {},
   "source": [
    "### Resumen del [documento](https://www.economist.com/graphic-detail/2018/07/26/python-is-becoming-the-worlds-most-popular-coding-language):"
   ]
  },
  {
   "cell_type": "markdown",
   "metadata": {},
   "source": [
    "El artículo empieza con una cita de Guido van Rossum, el creador de Python, quien se ve sorprendido por el lenguaje que ha creado y el uso y la importancia del mismo hoy en día.  \n",
    "\n",
    "Después, habla de los dos puntos fuertes de Python:\n",
    "* **simplicidad**\n",
    "* **flexibilidad**  \n",
    "\n",
    "Además, Python es un lenguaje fácil de entender, fácil de usar y fácil de leer.\n",
    "\n",
    "\n",
    "Algunos frutos que ha dejado Python en las grandes compañias son:\n",
    "- Central Intelligence Agency lo ha usado para 'hackear'\n",
    "- Google para crear páginas web\n",
    "- Pixar para producir películas\n",
    "- Spotify para recomendar canciones\n",
    "\n",
    "Al final, se hace la comparación con el lenguaje C++ y con Java, que se dice que Python 'no va a matarlos', pero se puede concluir que este lenguaje tiene un gran futuro, y puede estar muy cerca.\n"
   ]
  },
  {
   "cell_type": "markdown",
   "metadata": {},
   "source": [
    "La fórmula el rectángulo se obtiene al interpolar a $f(x)$ por medio del polinomio constante $p_0(x)$ = $f(\\frac{a+b}{2})$.\n",
    "    \\begin{equation}\n",
    "    \\int_{a}^{b} f(x) \\,dx\\approx (b-a) f\\frac{a+b}{2} = R(f)\n",
    "    \\end{equation}\n",
    "    \n",
    "La fórmula del trapecio se obtiene al interpolar a $f$ por medio de un polinomio lineal $p_1(x)$ = $\\alpha$x + $\\beta$ que satisfaga $f(a) = p_1(a)$, y $f(b) = p_1(b).$ Determinar el polinomio lineal es equivalente a resolver un sistema de ecuaciones lineales para $\\alpha$ y $\\beta$  cuya solución es\n",
    "    \\begin{equation}\n",
    "        \\alpha = \\frac{f(b)-f(a)}{b-a} \n",
    "        \\beta = \\frac{f(b)a-f(a)b}{b-a}\n",
    "    \\end{equation}\n",
    "   \n",
    "   Al integrar $p_1(x)$ en el intervalo $[a,b]$ se obtiene la regla del trapecio con $h = b - a$\n",
    "   \\begin{equation}\n",
    "   \\int_{a}^{b} f(x) \\,dx\\approx \\int{a}^{b} p_1(x) \\, dx = \\frac{h}{2}(f(a)+f(b)) = T(f)\n",
    "   \\end{equation}\n",
    "   \n",
    "   El error esta dado por\n",
    "   \\begin{equation}\n",
    "       \\int_{a}^{b} f(x)\\,dx - T(f)= \\frac{h^3}{12}(f''(n)), a < n < b\n",
    "   \\end{equation}\n",
    "   \n",
    "   Por último al integrar el polinomio cuadrático que interpola a $f$ en $x = a, x = \\frac{a+b}{2}$ y $x = b$ se obtiene la regla de Simpson con $h = \\frac{b-a}{2}$\n",
    "   \\begin{equation}\n",
    "       \\int_{a}^{b} f(x) \\,dx\\approx \\int_{a}^{b} p_2(x) \\,dx= \\frac{h}{3}(f(a)+4f(a+h)+f(b)) = S(f).\n",
    "   \\end{equation}\n",
    "   \n",
    "   El error que se comete al usar Simpson es\n",
    "   \\begin{equation}\n",
    "       \\_int{a}^{b} \\,dx - S(f) = \\frac{h^5}{90}(f^4(n)), a < n < b.\n",
    "   \\end{equation}\n",
    "\n"
   ]
  },
  {
   "cell_type": "markdown",
   "metadata": {},
   "source": [
    "***"
   ]
  },
  {
   "cell_type": "markdown",
   "metadata": {},
   "source": [
    "### Las expectativas de curso de Daphne:"
   ]
  },
  {
   "cell_type": "markdown",
   "metadata": {},
   "source": [
    "- Espero reafirmar los conocimientos previos de programación además de conectar lo aprendido en clase en el campo laboral \n"
   ]
  },
  {
   "cell_type": "markdown",
   "metadata": {},
   "source": [
    "<img style=\"center\" src=\"https://anthoncode.com/wp-content/uploads/2019/01/python-logo-png.png\" width=\"250px\" height=\"200px\" alt=\"atom\" />"
   ]
  },
  {
   "cell_type": "markdown",
   "metadata": {},
   "source": [
    "### Resumen del [documento](https://www.economist.com/graphic-detail/2018/07/26/python-is-becoming-the-worlds-most-popular-coding-language):"
   ]
  },
  {
   "cell_type": "markdown",
   "metadata": {},
   "source": [
    "Python es el lenguaje de programación lider en el mercado gracias a dos caracteristicas importantes, la simplicidad y la flexibilidad con la que se maneja hace muy fácil aprender, leer y compartir; otra de las ventajas de phyton es la gran versatilidad que manejas, el lenguaje ha servido a Google, Central Intelligence Agency,Pixar, Spotify, entre otros. No se busca reemplazar a C y CC+ o a otros lenguajes de programación."
   ]
  },
  {
   "cell_type": "markdown",
   "metadata": {},
   "source": [
    "***"
   ]
  },
  {
   "cell_type": "markdown",
   "metadata": {},
   "source": [
    "1. La fórmula del rectángulo se obtiene al interpolar a $f(x)$ por medio del polinomio constante $P_0(x)=f(\\frac{a+b}{2})$.\n",
    "\\begin{equation}\\begin{aligned}\n",
    "\\int_{a}^{b} f(x) \\,dx\\approx (b-a) f(\\frac{a+b}{2})=R(f).\n",
    "\\end{aligned}\\end{equation}\n",
    "2. La fórmula del trapecio se obtiene al interpolar a $f$ por medio de un polinomio lineal $P_1(x)=ax+\\beta$ que satisfaga $f(a)=P_1(a)$, y $f(b)$. Determinar el polinomio lineal es equivalente a resolver un sistema de escuaciones lineales para $a$ y $\\beta$ cuya solución es\n",
    "\\begin{equation}\\begin{aligned}\n",
    "a=\\frac{f(b)-f(a)}{b-a}\\qquad\\beta=\\frac{f(b)a-f(a)b}{b-a}.\n",
    "\\end{aligned}\\end{equation}\n",
    "Al integrar $P_1(x)$  en el intervalo $[a,b]$ se obtiene la regla del trapecio con $h=b-a$\n",
    "\\begin{equation}\\begin{aligned}\n",
    "\\int_{a}^{b} f(x) \\,dx\\approx\\int_{a}^{b} P_1(x) \\,dx=\\frac{h}{2}(f(a)+f(b))=T(f).\n",
    "\\end{aligned}\\end{equation}\n",
    "El error esta dado por\n",
    "\\begin{equation}\\begin{aligned}\n",
    "\\int_{a}^{b} f(x) \\,dx-T(f)=-\\frac{h^3}{12}(f''(n)),\\qquad a<\\eta<b.\n",
    "\\end{aligned}\\end{equation}\n",
    "3. Por último al integrar el polinomio cuadrático que interpola a $f$ en $x=a, x=\\frac{a+b}{2}$, y $x=b$ se obtiene la regla de Simpson con $h=\\frac{b-a}{2}$\n",
    "\\begin{equation}\\begin{aligned}\n",
    "\\int_{a}^{b} f(x) \\,dx\\approx\\int_{a}^{b} P_2(x) \\,dx=\\frac{h}{3}(f(a)+4f(a+h)+f(b))=S(f).\n",
    "\\end{aligned}\\end{equation}\n",
    "El error que se comete al usar Simpson es \n",
    "\\begin{equation}\\begin{aligned}\n",
    "\\int_{a}^{b} f(x) \\,dx-S(f)=\\frac{h^5}{90}(f^4(\\eta)),\\qquad a<\\eta<b.\n",
    "\\end{aligned}\\end{equation}"
   ]
  },
  {
   "cell_type": "markdown",
   "metadata": {},
   "source": [
    "***"
   ]
  },
  {
   "cell_type": "markdown",
   "metadata": {},
   "source": [
    "aqui va tu serie "
   ]
  },
  {
   "cell_type": "code",
   "execution_count": null,
   "metadata": {},
   "outputs": [],
   "source": [
    "aqui va la mía"
   ]
  },
  {
   "cell_type": "code",
   "execution_count": null,
   "metadata": {},
   "outputs": [],
   "source": []
  }
 ],
 "metadata": {
  "kernelspec": {
   "display_name": "Python 3",
   "language": "python",
   "name": "python3"
  },
  "language_info": {
   "codemirror_mode": {
    "name": "ipython",
    "version": 3
   },
   "file_extension": ".py",
   "mimetype": "text/x-python",
   "name": "python",
   "nbconvert_exporter": "python",
   "pygments_lexer": "ipython3",
   "version": "3.7.1"
  }
 },
 "nbformat": 4,
 "nbformat_minor": 2
}
