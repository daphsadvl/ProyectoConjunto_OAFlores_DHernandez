{
 "cells": [
  {
   "cell_type": "markdown",
   "metadata": {},
   "source": [
    "# Tarea 1"
   ]
  },
  {
   "cell_type": "markdown",
   "metadata": {},
   "source": [
    "##### Daphne Hernández Sandoval    \n",
    "\n",
    "##### Oscar Alfonso Flores Orozco"
   ]
  },
  {
   "cell_type": "markdown",
   "metadata": {},
   "source": [
    "### Las expectativas de curso de Oscar:"
   ]
  },
  {
   "cell_type": "markdown",
   "metadata": {},
   "source": [
    "<img src=\"https://cdn0.iconfinder.com/data/icons/octicons/1024/markdown-512.png\" width=\"100\">"
   ]
  },
  {
   "cell_type": "markdown",
   "metadata": {},
   "source": [
    "\n",
    "    \n",
    "|   | Expectativas: |   |\n",
    "| :-: | :-: | :-: |\n",
    "| <span style=\"color:blue\"> poder agilizar la manera en la que programo, ya que a veces presiento que se llegar a los resultados pero existen maneras más sencillas. <span>  |   <span style=\"color:red\"> A lo largo de este curso espero poder *reforzar* los conocimientos que se han adquirido en clases como Algoritmos y Programación, Portafolios de Inversión, Análisis de Riesgo... que han sido materias que se ha utlizado la programación como medio de aprendizaje. <span>      | <span style=\"color:green\"> `Espero` , que en conjunto con mis otras materias y mis prácticas profesionales, sepa utlizar de manera **eficaz** mis conocimientos para que no sea un semestre pesado por la carga de materias que voy a cursar. <span>|\n"
   ]
  },
  {
   "cell_type": "markdown",
   "metadata": {},
   "source": [
    "***"
   ]
  },
  {
   "cell_type": "markdown",
   "metadata": {},
   "source": [
    "### Resumen del [documento](https://www.economist.com/graphic-detail/2018/07/26/python-is-becoming-the-worlds-most-popular-coding-language):"
   ]
  },
  {
   "cell_type": "markdown",
   "metadata": {},
   "source": [
    "El artículo empieza con una cita de Guido van Rossum, el creador de Python, quien se ve sorprendido por el lenguaje que ha creado y el uso y la importancia del mismo hoy en día.  \n",
    "\n",
    "Después, habla de los dos puntos fuertes de Python:\n",
    "* **simplicidad**\n",
    "* **flexibilidad**  \n",
    "\n",
    "Además, Python es un lenguaje fácil de entender, fácil de usar y fácil de leer.\n",
    "\n",
    "\n",
    "Algunos frutos que ha dejado Python en las grandes compañias son:\n",
    "- Central Intelligence Agency lo ha usado para 'hackear'\n",
    "- Google para crear páginas web\n",
    "- Pixar para producir películas\n",
    "- Spotify para recomendar canciones\n",
    "\n",
    "Al final, se hace la comparación con el lenguaje C++ y con Java, que se dice que Python 'no va a matarlos', pero se puede concluir que este lenguaje tiene un gran futuro, y puede estar muy cerca.\n"
   ]
  },
  {
   "cell_type": "markdown",
   "metadata": {},
   "source": [
    "La fórmula el rectángulo se obtiene al interpolar a $f(x)$ por medio del polinomio constante $p_0(x)$ = $f(\\frac{a+b}{2})$.\n",
    "    \\begin{equation}\n",
    "    \\int_{a}^{b} f(x) \\,dx\\approx (b-a) f\\frac{a+b}{2} = R(f)\n",
    "    \\end{equation}\n",
    "    \n",
    "La fórmula del trapecio se obtiene al interpolar a $f$ por medio de un polinomio lineal $p_1(x)$ = $\\alpha$x + $\\beta$ que satisfaga $f(a) = p_1(a)$, y $f(b) = p_1(b).$ Determinar el polinomio lineal es equivalente a resolver un sistema de ecuaciones lineales para $\\alpha$ y $\\beta$  cuya solución es\n",
    "    \\begin{equation}\n",
    "        \\alpha = \\frac{f(b)-f(a)}{b-a} \n",
    "        \\beta = \\frac{f(b)a-f(a)b}{b-a}\n",
    "    \\end{equation}\n",
    "   \n",
    "   Al integrar $p_1(x)$ en el intervalo $[a,b]$ se obtiene la regla del trapecio con $h = b - a$\n",
    "   \\begin{equation}\n",
    "   \\int_{a}^{b} f(x) \\,dx\\approx \\int{a}^{b} p_1(x) \\, dx = \\frac{h}{2}(f(a)+f(b)) = T(f)\n",
    "   \\end{equation}\n",
    "   \n",
    "   El error esta dado por\n",
    "   \\begin{equation}\n",
    "       \\int_{a}^{b} f(x)\\,dx - T(f)= \\frac{h^3}{12}(f''(n)), a < n < b\n",
    "   \\end{equation}\n",
    "   \n",
    "   Por último al integrar el polinomio cuadrático que interpola a $f$ en $x = a, x = \\frac{a+b}{2}$ y $x = b$ se obtiene la regla de Simpson con $h = \\frac{b-a}{2}$\n",
    "   \\begin{equation}\n",
    "       \\int_{a}^{b} f(x) \\,dx\\approx \\int_{a}^{b} p_2(x) \\,dx= \\frac{h}{3}(f(a)+4f(a+h)+f(b)) = S(f).\n",
    "   \\end{equation}\n",
    "   \n",
    "   El error que se comete al usar Simpson es\n",
    "   \\begin{equation}\n",
    "       \\_int{a}^{b} \\,dx - S(f) = \\frac{h^5}{90}(f^4(n)), a < n < b.\n",
    "   \\end{equation}\n",
    "\n"
   ]
  },
  {
   "cell_type": "markdown",
   "metadata": {},
   "source": [
    "***"
   ]
  },
  {
   "cell_type": "markdown",
   "metadata": {},
   "source": [
    "### Las expectativas de curso de Daphne:"
   ]
  },
  {
   "cell_type": "markdown",
   "metadata": {},
   "source": [
    "$$ \\begin{array}{l}{\\text { 1. La fórmula el rectingulo se obtiene al interpolar a } f(x) \\text { por medio del polinomio }} \\\\ {\\text { constante } p_{0}(x)=f\\left(\\frac{a+b}{2}\\right) \\text { . }} \\\\ {\\qquad \\int_{a}^{b} f(x) d x \\approx(b-a) f\\left(\\frac{a+b}{2}\\right)=R(f)}\\end{array} $$$$\\begin{array}{l}{\\text { 2. La formula del trapecio se obtiene al interpolar a } f \\text { por medio de un polinomio lineal }} \\\\ {p_{1}(x)=\\alpha x+\\beta \\text { que satisfaga } f(a)=p_{1}(a), \\text { y } f(b)=p_{1}(b) . \\text { Determinar el polinomio }} \\\\ {\\text { lineal es equivalente a resolver un sistema de ecuaciones lineales para } \\alpha \\text { y } \\beta \\text { cuya }} \\\\ {\\text { solución es }} \\\\ {\\qquad \\alpha=\\frac{f(b)-f(a)}{b-a} \\quad \\beta=\\frac{f(b) a-f(a) b}{b-a}}\\end{array}$$$$ \\begin{array}{l}{\\text { Al integrar } p_{1}(x) \\text { en el intervalo }[a, b] \\text { se obtiene la regla del trapecio con } h=b-a} \\\\ {\\qquad \\int_{a}^{b} f(x) d x \\approx \\int_{a}^{b} p_{1}(x) d x=\\frac{h}{2}(f(a)+f(b))=T(f)} \\\\ {\\text { El error está dado por }} \\\\ {\\qquad \\int_{a}^{b} f(x) d x-T(f)=-\\frac{h^{3}}{12}\\left(f^{\\prime \\prime}(\\eta)\\right), \\quad a<\\eta<b}\\end{array} $$$$ \\begin{array}{l}{\\text { 3. Por tiltimo al integrar el polinomio cuadrático que interpola a } f \\text { en } x=a, x=\\frac{a+b}{2} \\text { , }} \\\\ {\\begin{aligned} y x=b \\text { se obtiene la regla de Simpson con } h=\\frac{b-a}{2} \\\\ & \\int_{a}^{b} f(x) d x \\approx \\int_{a}^{b} p_{2}(x) d x=\\frac{h}{3}(f(a)+4 f(a+h)+f(b))=S(f) \\\\ \\text { El error que se comete al usar Simpson es } \\\\ \\qquad \\int_{a}^{b} f(x) d x-S(f)=\\frac{h^{5}}{90}\\left(f^{(4)}(\\eta)\\right), & a<\\eta<b \\end{aligned}}\\end{array} $$"
   ]
  },
  {
   "cell_type": "code",
   "execution_count": null,
   "metadata": {},
   "outputs": [],
   "source": []
  }
 ],
 "metadata": {
  "kernelspec": {
   "display_name": "Python 3",
   "language": "python",
   "name": "python3"
  },
  "language_info": {
   "codemirror_mode": {
    "name": "ipython",
    "version": 3
   },
   "file_extension": ".py",
   "mimetype": "text/x-python",
   "name": "python",
   "nbconvert_exporter": "python",
   "pygments_lexer": "ipython3",
   "version": "3.6.8"
  }
 },
 "nbformat": 4,
 "nbformat_minor": 2
}
