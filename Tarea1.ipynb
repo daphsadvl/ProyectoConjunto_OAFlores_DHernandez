{
 "cells": [
  {
   "cell_type": "markdown",
   "metadata": {},
   "source": [
    "# Tarea 1"
   ]
  },
  {
   "cell_type": "markdown",
   "metadata": {},
   "source": [
    "##### Daphne Hernández Sandoval    \n",
    "\n",
    "##### Oscar Alfonso Flores Orozco"
   ]
  },
  {
   "cell_type": "markdown",
   "metadata": {},
   "source": [
    "### Las expectativas de curso de Oscar:"
   ]
  },
  {
   "cell_type": "markdown",
   "metadata": {},
   "source": [
    "<img src=\"https://cdn0.iconfinder.com/data/icons/octicons/1024/markdown-512.png\" width=\"100\">"
   ]
  },
  {
   "cell_type": "markdown",
   "metadata": {},
   "source": [
    "\n",
    "    \n",
    "|   | Expectativas: |   |\n",
    "| :-: | :-: | :-: |\n",
    "| <span style=\"color:blue\"> poder agilizar la manera en la que programo, ya que a veces presiento que se llegar a los resultados pero existen maneras más sencillas. <span>  |   <span style=\"color:red\"> A lo largo de este curso espero poder *reforzar* los conocimientos que se han adquirido en clases como Algoritmos y Programación, Portafolios de Inversión, Análisis de Riesgo... que han sido materias que se ha utlizado la programación como medio de aprendizaje. <span>      | <span style=\"color:green\"> `Espero` , que en conjunto con mis otras materias y mis prácticas profesionales, sepa utlizar de manera **eficaz** mis conocimientos para que no sea un semestre pesado por la carga de materias que voy a cursar. <span>|\n"
   ]
  },
  {
   "cell_type": "markdown",
   "metadata": {},
   "source": [
    "***"
   ]
  },
  {
   "cell_type": "markdown",
   "metadata": {},
   "source": [
    "### Resumen del [documento](https://www.economist.com/graphic-detail/2018/07/26/python-is-becoming-the-worlds-most-popular-coding-language):"
   ]
  },
  {
   "cell_type": "markdown",
   "metadata": {},
   "source": [
    "El artículo empieza con una cita de Guido van Rossum, el creador de Python, quien se ve sorprendido por el lenguaje que ha creado y el uso y la importancia del mismo hoy en día.  \n",
    "\n",
    "Después, habla de los dos puntos fuertes de Python:\n",
    "* **simplicidad**\n",
    "* **flexibilidad**  \n",
    "\n",
    "Además, Python es un lenguaje fácil de entender, fácil de usar y fácil de leer.\n",
    "\n",
    "\n",
    "Algunos frutos que ha dejado Python en las grandes compañias son:\n",
    "- Central Intelligence Agency lo ha usado para 'hackear'\n",
    "- Google para crear páginas web\n",
    "- Pixar para producir películas\n",
    "- Spotify para recomendar canciones\n",
    "\n",
    "Al final, se hace la comparación con el lenguaje C++ y con Java, que se dice que Python 'no va a matarlos', pero se puede concluir que este lenguaje tiene un gran futuro, y puede estar muy cerca.\n"
   ]
  }
 ],
 "metadata": {
  "kernelspec": {
   "display_name": "Python 3",
   "language": "python",
   "name": "python3"
  },
  "language_info": {
   "codemirror_mode": {
    "name": "ipython",
    "version": 3
   },
   "file_extension": ".py",
   "mimetype": "text/x-python",
   "name": "python",
   "nbconvert_exporter": "python",
   "pygments_lexer": "ipython3",
   "version": "3.6.8"
  }
 },
 "nbformat": 4,
 "nbformat_minor": 2
}
